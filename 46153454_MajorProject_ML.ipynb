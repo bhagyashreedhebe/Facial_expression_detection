{
  "nbformat": 4,
  "nbformat_minor": 0,
  "metadata": {
    "colab": {
      "name": "46153454_MajorProject_ML.ipynb",
      "provenance": [],
      "collapsed_sections": []
    },
    "kernelspec": {
      "name": "python3",
      "display_name": "Python 3"
    },
    "accelerator": "GPU"
  },
  "cells": [
    {
      "cell_type": "markdown",
      "metadata": {
        "id": "-eFexrKSmkTF"
      },
      "source": [
        "# Major Project COMP8220 Machine Learning"
      ]
    },
    {
      "cell_type": "markdown",
      "metadata": {
        "id": "rHrW4btNmryg"
      },
      "source": [
        "A image dataset including 9328 images features and labels was given to build model upon. These images captured the emotions of human faces and we were to build the a model to learn these emotions. Using these models we had to predict labels for public test set and private test set. The public test set given was of size 1136 which contained only the image features was released along with the initial dataset. On 4th Nov the private dataset was released and the best performing model could be any - one built using conventional approach or deep learning approach was to be used to predict the labels. These predictions were submitted in Kaggle Competition. The environment used to train the model was Google Colab with GPU as the runtime. Few of the models were built on jupyter notebook utilizing the system GPU. The goal of the project was to familiarize us with the machine learning approaches taught us throughout the course. "
      ]
    },
    {
      "cell_type": "markdown",
      "metadata": {
        "id": "bz8AFvN2Qdht"
      },
      "source": [
        "## Facial Expression Recognition"
      ]
    },
    {
      "cell_type": "code",
      "metadata": {
        "id": "Z88fRQsul4Qy",
        "outputId": "c7c38707-8484-495f-8a8c-b17ace677b76",
        "colab": {
          "base_uri": "https://localhost:8080/"
        }
      },
      "source": [
        "# Importing classes required working in colab and importing the data\n",
        "import numpy as np\n",
        "from os.path import join\n",
        "import matplotlib.pyplot as plt\n",
        "import tensorflow as tf\n",
        "from tensorflow.keras import layers, models\n",
        "from google.colab import drive\n",
        "\n",
        "drive.mount('/content/drive/')\n",
        "\n",
        "image_size = 48\n",
        "EMOTIONS = ['angry', 'disgusted', 'fearful','happy', 'sad', 'surprised', 'neutral']\n",
        "dataset_directory = '/content/drive/My Drive/Colab Notebooks/ML/facial-expression-recognition'  # defining the directory for data sets to load from"
      ],
      "execution_count": null,
      "outputs": [
        {
          "output_type": "stream",
          "text": [
            "Mounted at /content/drive/\n"
          ],
          "name": "stdout"
        }
      ]
    },
    {
      "cell_type": "code",
      "metadata": {
        "id": "BLAKbx6Gnxcz",
        "outputId": "f89fd9a4-4b45-48cc-f735-f1689cfc8860",
        "colab": {
          "base_uri": "https://localhost:8080/"
        }
      },
      "source": [
        "# Importing the image data as a numpy array\n",
        "images_train = np.load(join(dataset_directory, 'Training_data_images.npy'))\n",
        "# Importing the labels as a numpy array\n",
        "labels_train = np.load(join(dataset_directory, 'Training_data_labels.npy'))\n",
        "\n",
        "# Importing the public test set\n",
        "images_test_public = np.load(join(dataset_directory, 'PublicTest_data_images.npy'))\n",
        "\n",
        "# Reshaping the image from 3D to 2D\n",
        "images_train = images_train.reshape([-1, image_size, image_size])\n",
        "images_test_public = images_test_public.reshape([-1, image_size, image_size])\n",
        "\n",
        "print(images_train.shape)\n",
        "print(labels_train.shape)\n",
        "print(images_test_public.shape)"
      ],
      "execution_count": null,
      "outputs": [
        {
          "output_type": "stream",
          "text": [
            "(9328, 48, 48)\n",
            "(9328,)\n",
            "(1136, 48, 48)\n"
          ],
          "name": "stdout"
        }
      ]
    },
    {
      "cell_type": "code",
      "metadata": {
        "id": "sv09J6cTn8M0",
        "outputId": "664510d2-5a73-4d52-d819-832167fb15a4",
        "colab": {
          "base_uri": "https://localhost:8080/",
          "height": 285
        }
      },
      "source": [
        "plt.imshow(images_train[0], cmap='gray') # displaying one image from image data"
      ],
      "execution_count": null,
      "outputs": [
        {
          "output_type": "execute_result",
          "data": {
            "text/plain": [
              "<matplotlib.image.AxesImage at 0x7f3a00d0e860>"
            ]
          },
          "metadata": {
            "tags": []
          },
          "execution_count": 3
        },
        {
          "output_type": "display_data",
          "data": {
            "image/png": "[encoded data removed]",
            "text/plain": [
              "<Figure size 432x288 with 1 Axes>"
            ]
          },
          "metadata": {
            "tags": [],
            "needs_background": "light"
          }
        }
      ]
    },
    {
      "cell_type": "markdown",
      "metadata": {
        "id": "fFkdttLM2stK"
      },
      "source": [
        "## Conventional ML Model\n"
      ]
    },
    {
      "cell_type": "code",
      "metadata": {
        "id": "PoQDzACGn_lG"
      },
      "source": [
        "from sklearn.model_selection import train_test_split # for spliting data into train and test sets\n",
        "import pandas as pd\n",
        "from sklearn.naive_bayes import GaussianNB\n",
        "from sklearn.ensemble import RandomForestClassifier\n",
        "from sklearn.model_selection import StratifiedShuffleSplit"
      ],
      "execution_count": null,
      "outputs": []
    },
    {
      "cell_type": "code",
      "metadata": {
        "id": "WMOZeKEbFYGO"
      },
      "source": [
        "# Reshape the data to build conventional ML models\n",
        "nsamples, nx, ny = images_train.shape\n",
        "images_train_re = images_train.reshape((nsamples,nx*ny))\n",
        "\n",
        "ysamples, yx, yy = images_test_public.shape\n",
        "images_test_public_re = images_test_public.reshape((ysamples,yx*yy))"
      ],
      "execution_count": null,
      "outputs": []
    },
    {
      "cell_type": "markdown",
      "metadata": {
        "id": "HWtOaQPpyOnf"
      },
      "source": [
        "#### Applying Random Forest Model using Stratified Shuffle Split dataset"
      ]
    },
    {
      "cell_type": "code",
      "metadata": {
        "id": "Bz4sEKcQ2frg"
      },
      "source": [
        "# test size of 25% of the original data \n",
        "sss = StratifiedShuffleSplit(n_splits=5, test_size=0.25, random_state=0)"
      ],
      "execution_count": null,
      "outputs": []
    },
    {
      "cell_type": "code",
      "metadata": {
        "id": "fha_l8012iAk",
        "outputId": "ac028be4-59d4-41e3-f341-305c67cf50f0",
        "colab": {
          "base_uri": "https://localhost:8080/"
        }
      },
      "source": [
        "# split the image data and labels data\n",
        "sss.get_n_splits(images_train, labels_train)\n",
        "sss"
      ],
      "execution_count": null,
      "outputs": [
        {
          "output_type": "execute_result",
          "data": {
            "text/plain": [
              "StratifiedShuffleSplit(n_splits=5, random_state=0, test_size=0.25,\n",
              "            train_size=None)"
            ]
          },
          "metadata": {
            "tags": []
          },
          "execution_count": 14
        }
      ]
    },
    {
      "cell_type": "code",
      "metadata": {
        "id": "1v0kw_-82onq",
        "outputId": "ddacc61f-59f0-4f8e-b961-d19c50c2249f",
        "colab": {
          "base_uri": "https://localhost:8080/"
        }
      },
      "source": [
        "for train_index, test_index in sss.split(images_train_re, labels_train):\n",
        "  print(\"TRAIN:\", train_index, \"TEST:\", test_index)\n",
        "  X_train3, X_test3 = images_train_re[train_index], images_train_re[test_index]\n",
        "  y_train3, y_test3 = labels_train[train_index], labels_train[test_index]"
      ],
      "execution_count": null,
      "outputs": [
        {
          "output_type": "stream",
          "text": [
            "TRAIN: [5623 8725 8000 ... 9235 6058 9088] TEST: [1485 6642 2660 ... 7211 3853 5517]\n",
            "TRAIN: [1466 3028 3536 ... 3756 2654 9063] TEST: [6964 9147 6377 ...  854 2030 5110]\n",
            "TRAIN: [7512 6348 1267 ... 3722 4182 3521] TEST: [6518 4677  191 ... 3308 6653  886]\n",
            "TRAIN: [6866 9252 4591 ... 2577 5418 5326] TEST: [8442  325 5742 ... 3913 8950 8828]\n",
            "TRAIN: [6826 5734 2942 ... 2858 6618 6322] TEST: [1657 1147 2703 ... 9237 4703 8098]\n"
          ],
          "name": "stdout"
        }
      ]
    },
    {
      "cell_type": "code",
      "metadata": {
        "id": "5j1RgQFd2v8X",
        "outputId": "8e0277ad-9b34-42f4-c776-92368c0546bc",
        "colab": {
          "base_uri": "https://localhost:8080/"
        }
      },
      "source": [
        "print(X_train3.shape)\n",
        "print(X_test3.shape)\n",
        "print(y_train3.shape)\n",
        "print(y_test3.shape)"
      ],
      "execution_count": null,
      "outputs": [
        {
          "output_type": "stream",
          "text": [
            "(6996, 2304)\n",
            "(2332, 2304)\n",
            "(6996,)\n",
            "(2332,)\n"
          ],
          "name": "stdout"
        }
      ]
    },
    {
      "cell_type": "markdown",
      "metadata": {
        "id": "6-cb80HRi5gG"
      },
      "source": [
        "Using the random forest classifier model with estimators as 150 and checking the accuracy of the model using score function and checking the misclassified data using crosstab. "
      ]
    },
    {
      "cell_type": "code",
      "metadata": {
        "id": "YPj5egMA28ib",
        "outputId": "074fe7cd-f8cb-4b32-f769-d5e58c415d60",
        "colab": {
          "base_uri": "https://localhost:8080/"
        }
      },
      "source": [
        "rfsk_clf = RandomForestClassifier(n_estimators=150, random_state=123456) # creating a random forest classifier\n",
        "\n",
        "rfsk_clf.fit(X_train3, y_train3) # fit our training data on the model\n",
        "\n",
        "y_pred_rfsk = rfsk_clf.predict(X_test3) # predict on the test data\n",
        "\n",
        "print(\"Predicted value for test data: \", y_pred_rfsk)\n",
        "print(\"Accuracy Score of Random Forest: %.4f\\n\"% rfsk_clf.score(X_test3, y_test3)) # mean accuracy for the test data and labels \n",
        "\n",
        "# Confusion Matrix/Crosstab for Random Forest\n",
        "y_test_rfsk = pd.Series(y_test3, name='Actual')\n",
        "y_pred_rfsk = pd.Series(y_pred_rfsk, name='Predicted')\n",
        "rfsk_clf_confusion = pd.crosstab(y_test_rfsk, y_pred_rfsk) # represent how the labels are classified\n",
        "print(\"Confusion Matrix/ Crosstab for Random Forest: \\n\", rfsk_clf_confusion)"
      ],
      "execution_count": null,
      "outputs": [
        {
          "output_type": "stream",
          "text": [
            "Predicted value for test data:  [4 6 6 ... 5 3 3]\n",
            "Accuracy Score of Random Forest: 0.5497\n",
            "\n",
            "Confusion Matrix/ Crosstab for Random Forest: \n",
            " Predicted   0   1   2    3   4    5    6\n",
            "Actual                                  \n",
            "0          97   0   5   98   6   12   98\n",
            "1           4  22   1   18   0    1    7\n",
            "2          41   0  61   69  10   21   75\n",
            "3          12   0   5  605   2    8   52\n",
            "4          22   0   8   77  37    8  109\n",
            "5          12   0   5   53   2  161   30\n",
            "6          21   0   9  127  10   12  299\n"
          ],
          "name": "stdout"
        }
      ]
    },
    {
      "cell_type": "code",
      "metadata": {
        "id": "1br0xuZc4U8i",
        "outputId": "b8e42c57-1798-4d48-d6b4-7b46c03c5578",
        "colab": {
          "base_uri": "https://localhost:8080/"
        }
      },
      "source": [
        "# predicitng on the public test set to be submitted on kaggle\n",
        "public_pred_rfsk = rfsk_clf.predict(images_test_public_re)\n",
        "print(public_pred_rfsk.shape)"
      ],
      "execution_count": null,
      "outputs": [
        {
          "output_type": "stream",
          "text": [
            "(1136,)\n"
          ],
          "name": "stdout"
        }
      ]
    },
    {
      "cell_type": "code",
      "metadata": {
        "id": "0scV-cGs4beY"
      },
      "source": [
        "# saving the predictions to a dataframe and then writing the dataframe to a csv file on drive\n",
        "predictionsk_df = pd.DataFrame(columns=['Predictions'])\n",
        "\n",
        "predictionsk_df['Predictions'] = public_pred_rfsk\n",
        "\n",
        "predictionsk_df['ID'] = predictionsk_df.index\n",
        "\n",
        "predictionsk_df.head()\n",
        "\n",
        "outputsk_df = predictionsk_df[['ID', 'Predictions']]\n",
        "\n",
        "outputsk_df.head()\n",
        "\n",
        "outputsk_df.to_csv('/content/drive/My Drive/Colab Notebooks/ML/facial-expression-recognition/46153454_conventional.csv', index= False)"
      ],
      "execution_count": null,
      "outputs": []
    },
    {
      "cell_type": "markdown",
      "metadata": {
        "id": "cnl7Cph039mw"
      },
      "source": [
        "#### Notes on the Conventional ML Model\n",
        "\n",
        "For the final coneventional ML model selected was Random Forest considering n_estimators as 100 and random_state 123456. The data used to train this model was generated using StratifiedShuffleSplit split with split size as 5. This cross validation object 'sss' is a combination of StratifiedKFold and ShuffleShift and returns randomized stratified folds. This model gives an accuracy of 0.5497.\n",
        "\n",
        "In addition to the final model, I also tried **SVM** which gave accuracy **40%**. Also **Decision Tree** was trained which gave an accuracy of **36%**. By using stratified kfold split on the train_test_split for Random forest the accuracy was observed to be **52%**. Finally, the best accuracy score was achieved for a Random Forest Model with StratifiedShuffleSplit data. "
      ]
    },
    {
      "cell_type": "markdown",
      "metadata": {
        "id": "_H1wW9qp2cq1"
      },
      "source": [
        "## Deep Learning Model\n",
        "\n",
        "The final model that produced the best-performing predictions for the Kaggle submission (accuracy 62%) was a fully connected dense model with 4 layers.  The input was the raw data that had been preprocessed by a conventional neural network model."
      ]
    },
    {
      "cell_type": "code",
      "metadata": {
        "id": "KojuvU1b5ANJ"
      },
      "source": [
        "# loading initial classes required for keras implemenation of deep learning models\n",
        "import keras\n",
        "from keras.preprocessing import image\n",
        "from keras.applications.imagenet_utils import preprocess_input\n",
        "from keras.models import Sequential\n",
        "from keras.layers import Dense, Dropout, Flatten, Activation\n",
        "from keras.layers import Conv2D, MaxPooling2D\n",
        "from keras.models import Model\n",
        "from keras.utils import to_categorical\n",
        "from tensorflow.keras.layers import BatchNormalization\n",
        "from skimage.transform import resize\n",
        "from PIL import Image\n",
        "from keras.optimizers import SGD"
      ],
      "execution_count": null,
      "outputs": []
    },
    {
      "cell_type": "code",
      "metadata": {
        "id": "1kK3pvKg4RbR"
      },
      "source": [
        "# spliting the data into train test and validation split in 64:20:16 ratio\n",
        "X_train1, X_test, y_train1, y_test = train_test_split(images_train, labels_train, random_state=42, test_size=0.2)\n",
        "X_train, X_val, y_train, y_val = train_test_split(X_train1, y_train1, test_size=0.2, random_state=42) "
      ],
      "execution_count": null,
      "outputs": []
    },
    {
      "cell_type": "code",
      "metadata": {
        "id": "qFyDwkFv67Ys",
        "outputId": "a9c52e52-cea5-4cb0-fd9c-45350afc31a5",
        "colab": {
          "base_uri": "https://localhost:8080/",
          "height": 285
        }
      },
      "source": [
        "# plot array like or PIL images using imshow\n",
        "plt.imshow(X_train[0])"
      ],
      "execution_count": null,
      "outputs": [
        {
          "output_type": "execute_result",
          "data": {
            "text/plain": [
              "<matplotlib.image.AxesImage at 0x7f39f42fbb38>"
            ]
          },
          "metadata": {
            "tags": []
          },
          "execution_count": 22
        },
        {
          "output_type": "display_data",
          "data": {
            "image/png": "[encoded data removed]",
            "text/plain": [
              "<Figure size 432x288 with 1 Axes>"
            ]
          },
          "metadata": {
            "tags": [],
            "needs_background": "light"
          }
        }
      ]
    },
    {
      "cell_type": "code",
      "metadata": {
        "id": "APDWe_kP5XS7"
      },
      "source": [
        "# defining a preocedure for initial processing of the image to use in deep learning model\n",
        "def procedure_img(input):\n",
        "    img=Image.fromarray(input*255)\n",
        "    return np.asarray(img)"
      ],
      "execution_count": null,
      "outputs": []
    },
    {
      "cell_type": "code",
      "metadata": {
        "id": "9WQW3_la8Ghw"
      },
      "source": [
        "# transforming the training data\n",
        "X_train = np.array([procedure_img(i) for i in X_train])"
      ],
      "execution_count": null,
      "outputs": []
    },
    {
      "cell_type": "code",
      "metadata": {
        "id": "HsCfckTyl6dZ"
      },
      "source": [
        "# transforming the test data\n",
        "X_test = np.array([procedure_img(i) for i in X_test])"
      ],
      "execution_count": null,
      "outputs": []
    },
    {
      "cell_type": "code",
      "metadata": {
        "id": "wmBJxxhcl6gR"
      },
      "source": [
        "# transforming the validation data\n",
        "X_val = np.array([procedure_img(i) for i in X_val])"
      ],
      "execution_count": null,
      "outputs": []
    },
    {
      "cell_type": "code",
      "metadata": {
        "id": "mHnj2zNul6jm"
      },
      "source": [
        "# expanding the dimensions on image features data\n",
        "X_train = np.expand_dims(X_train, axis=3)\n",
        "X_test = np.expand_dims(X_test, axis=3)\n",
        "X_val = np.expand_dims(X_val, axis=3)"
      ],
      "execution_count": null,
      "outputs": []
    },
    {
      "cell_type": "code",
      "metadata": {
        "id": "F4shGdg1mAH6",
        "outputId": "31d56e45-6a43-47d8-957d-2b696955edb4",
        "colab": {
          "base_uri": "https://localhost:8080/"
        }
      },
      "source": [
        "# convert labels to one-hot vectors as it is the format that is required by keras\n",
        "y_train = to_categorical(y_train, 7)\n",
        "y_test = to_categorical(y_test)\n",
        "y_val = to_categorical(y_val)\n",
        "print(y_train.shape)"
      ],
      "execution_count": null,
      "outputs": [
        {
          "output_type": "stream",
          "text": [
            "(5969, 7)\n"
          ],
          "name": "stdout"
        }
      ]
    },
    {
      "cell_type": "code",
      "metadata": {
        "id": "cPPT0XJKmAKU",
        "outputId": "92efb353-b73a-472e-9ff2-2ac505de6714",
        "colab": {
          "base_uri": "https://localhost:8080/"
        }
      },
      "source": [
        "print(X_train.shape, X_test.shape, X_val.shape,y_train.shape, y_test.shape, y_val.shape)"
      ],
      "execution_count": null,
      "outputs": [
        {
          "output_type": "stream",
          "text": [
            "(5969, 48, 48, 1) (1866, 48, 48, 1) (1493, 48, 48, 1) (5969, 7) (1866, 7) (1493, 7)\n"
          ],
          "name": "stdout"
        }
      ]
    },
    {
      "cell_type": "code",
      "metadata": {
        "id": "6r5hgFinmAMw",
        "outputId": "6f3a628d-aae9-48a3-dd8c-f7dc2e4bf298",
        "colab": {
          "base_uri": "https://localhost:8080/"
        }
      },
      "source": [
        "# build the network\n",
        "model = Sequential()  # stack layers for one input and output\n",
        "print(\"Input dimensions: \",X_train.shape[1:])\n",
        "\n",
        "model.add(Conv2D(32, (3, 3), input_shape=X_train.shape[1:])) # convolution layer for extracting feature from the image\n",
        "model.add(Activation('relu')) # adding activation to the layer above\n",
        "model.add(MaxPooling2D(pool_size=(2, 2))) # downsize the input layer above\n",
        "model.add(BatchNormalization()) # normalize the input layer above\n",
        "model.add(Dropout(0.25))  # prevent the model from overfitting\n",
        "\n",
        "# repeat the above layers with increased kernel size for convolution layer\n",
        "model.add(Conv2D(64, (3, 3)))\n",
        "model.add(Activation('relu'))\n",
        "model.add(MaxPooling2D(pool_size=(2, 2)))\n",
        "model.add(BatchNormalization())\n",
        "model.add(Dropout(0.25))\n",
        "\n",
        "# repeat the above layers with increased kernel size for convolution layer\n",
        "model.add(Conv2D(128, (3, 3)))\n",
        "model.add(Activation('relu'))\n",
        "model.add(MaxPooling2D(pool_size=(2, 2)))\n",
        "model.add(BatchNormalization())\n",
        "model.add(Dropout(0.25))\n",
        "               \n",
        "# repeat the above layers with increased kernel size for convolution layer\n",
        "model.add(Conv2D(256, (3, 3)))\n",
        "model.add(Activation('relu'))\n",
        "model.add(MaxPooling2D(pool_size=(2, 2)))\n",
        "model.add(BatchNormalization())\n",
        "model.add(Dropout(0.25))\n",
        "\n",
        "# flatten the above layers output to pass on to dense layer\n",
        "model.add(Flatten())\n",
        "model.add(Dense(256, activation='relu'))\n",
        "model.add(Dropout(0.25))\n",
        "\n",
        "model.add(Dense(512, activation='relu'))\n",
        "model.add(Dropout(0.25))\n",
        "model.add(Dense(7, activation='softmax'))\n",
        "\n",
        "model.summary()"
      ],
      "execution_count": null,
      "outputs": [
        {
          "output_type": "stream",
          "text": [
            "Input dimensions:  (48, 48, 1)\n",
            "Model: \"sequential_2\"\n",
            "_________________________________________________________________\n",
            "Layer (type)                 Output Shape              Param #   \n",
            "=================================================================\n",
            "conv2d_14 (Conv2D)           (None, 46, 46, 32)        320       \n",
            "_________________________________________________________________\n",
            "activation (Activation)      (None, 46, 46, 32)        0         \n",
            "_________________________________________________________________\n",
            "max_pooling2d_10 (MaxPooling (None, 23, 23, 32)        0         \n",
            "_________________________________________________________________\n",
            "batch_normalization_2 (Batch (None, 23, 23, 32)        128       \n",
            "_________________________________________________________________\n",
            "dropout_4 (Dropout)          (None, 23, 23, 32)        0         \n",
            "_________________________________________________________________\n",
            "conv2d_15 (Conv2D)           (None, 21, 21, 64)        18496     \n",
            "_________________________________________________________________\n",
            "activation_1 (Activation)    (None, 21, 21, 64)        0         \n",
            "_________________________________________________________________\n",
            "max_pooling2d_11 (MaxPooling (None, 10, 10, 64)        0         \n",
            "_________________________________________________________________\n",
            "batch_normalization_3 (Batch (None, 10, 10, 64)        256       \n",
            "_________________________________________________________________\n",
            "dropout_5 (Dropout)          (None, 10, 10, 64)        0         \n",
            "_________________________________________________________________\n",
            "conv2d_16 (Conv2D)           (None, 8, 8, 128)         73856     \n",
            "_________________________________________________________________\n",
            "activation_2 (Activation)    (None, 8, 8, 128)         0         \n",
            "_________________________________________________________________\n",
            "max_pooling2d_12 (MaxPooling (None, 4, 4, 128)         0         \n",
            "_________________________________________________________________\n",
            "batch_normalization_4 (Batch (None, 4, 4, 128)         512       \n",
            "_________________________________________________________________\n",
            "dropout_6 (Dropout)          (None, 4, 4, 128)         0         \n",
            "_________________________________________________________________\n",
            "conv2d_17 (Conv2D)           (None, 2, 2, 256)         295168    \n",
            "_________________________________________________________________\n",
            "activation_3 (Activation)    (None, 2, 2, 256)         0         \n",
            "_________________________________________________________________\n",
            "max_pooling2d_13 (MaxPooling (None, 1, 1, 256)         0         \n",
            "_________________________________________________________________\n",
            "batch_normalization_5 (Batch (None, 1, 1, 256)         1024      \n",
            "_________________________________________________________________\n",
            "dropout_7 (Dropout)          (None, 1, 1, 256)         0         \n",
            "_________________________________________________________________\n",
            "flatten_2 (Flatten)          (None, 256)               0         \n",
            "_________________________________________________________________\n",
            "dense_2 (Dense)              (None, 256)               65792     \n",
            "_________________________________________________________________\n",
            "dropout_8 (Dropout)          (None, 256)               0         \n",
            "_________________________________________________________________\n",
            "dense_3 (Dense)              (None, 512)               131584    \n",
            "_________________________________________________________________\n",
            "dropout_9 (Dropout)          (None, 512)               0         \n",
            "_________________________________________________________________\n",
            "dense_4 (Dense)              (None, 7)                 3591      \n",
            "=================================================================\n",
            "Total params: 590,727\n",
            "Trainable params: 589,767\n",
            "Non-trainable params: 960\n",
            "_________________________________________________________________\n"
          ],
          "name": "stdout"
        }
      ]
    },
    {
      "cell_type": "code",
      "metadata": {
        "id": "WakTlI63mAQG"
      },
      "source": [
        "# callback funtion defining the parameters to monitor and the mode in which it should be monitored\n",
        "from keras.callbacks import ModelCheckpoint\n",
        "checkpoint = ModelCheckpoint(filepath=\"emotion_recog.csv\",\n",
        "                             monitor=\"val_accuracy\",\n",
        "                             mode=\"max\",\n",
        "                             save_best_only=True,\n",
        "                             verbose=1)\n",
        "callbacks = [checkpoint]"
      ],
      "execution_count": null,
      "outputs": []
    },
    {
      "cell_type": "code",
      "metadata": {
        "id": "Dpo9Vs53mlZn"
      },
      "source": [
        "# compiling the model \n",
        "# SGD classifier used as the optimizer\n",
        "opt = SGD(lr=0.01, momentum=0.9,decay=1e-6)\n",
        "# model complied using optimizer as defined above, loss as categorical_crossentropy since we are having multi class classification problem\n",
        "# and metrics as accuracy to monitor\n",
        "model.compile(loss=\"categorical_crossentropy\", optimizer=opt, metrics=['accuracy'])"
      ],
      "execution_count": null,
      "outputs": []
    },
    {
      "cell_type": "code",
      "metadata": {
        "id": "2GidP6flmlhP",
        "outputId": "70acad5a-f9b4-4626-958a-71c6f3c673a4",
        "colab": {
          "base_uri": "https://localhost:8080/"
        }
      },
      "source": [
        "# train the model built using the batches as of 32 size and repeat iteratively over the dataset 40 times(epoch)\n",
        "# passed the validation dataset as to monitor validation loss and metrics at every epoch end\n",
        "history = model.fit(X_train, y_train, batch_size=128, epochs=40, callbacks=callbacks,  validation_data=(X_val, y_val))"
      ],
      "execution_count": null,
      "outputs": [
        {
          "output_type": "stream",
          "text": [
            "Epoch 1/40\n",
            "47/47 [==============================] - ETA: 0s - loss: 1.8930 - accuracy: 0.2674\n",
            "Epoch 00001: val_accuracy improved from -inf to 0.10181, saving model to emotion_recog.csv\n",
            "WARNING:tensorflow:From /usr/local/lib/python3.6/dist-packages/tensorflow/python/training/tracking/tracking.py:111: Model.state_updates (from tensorflow.python.keras.engine.training) is deprecated and will be removed in a future version.\n",
            "Instructions for updating:\n",
            "This property should not be used in TensorFlow 2.0, as updates are applied automatically.\n",
            "WARNING:tensorflow:From /usr/local/lib/python3.6/dist-packages/tensorflow/python/training/tracking/tracking.py:111: Layer.updates (from tensorflow.python.keras.engine.base_layer) is deprecated and will be removed in a future version.\n",
            "Instructions for updating:\n",
            "This property should not be used in TensorFlow 2.0, as updates are applied automatically.\n",
            "INFO:tensorflow:Assets written to: emotion_recog.csv/assets\n",
            "47/47 [==============================] - 3s 72ms/step - loss: 1.8930 - accuracy: 0.2674 - val_loss: 2.0914 - val_accuracy: 0.1018\n",
            "Epoch 2/40\n",
            "46/47 [============================>.] - ETA: 0s - loss: 1.7402 - accuracy: 0.3098\n",
            "Epoch 00002: val_accuracy improved from 0.10181 to 0.33958, saving model to emotion_recog.csv\n",
            "INFO:tensorflow:Assets written to: emotion_recog.csv/assets\n",
            "47/47 [==============================] - 3s 63ms/step - loss: 1.7421 - accuracy: 0.3093 - val_loss: 1.7840 - val_accuracy: 0.3396\n",
            "Epoch 3/40\n",
            "45/47 [===========================>..] - ETA: 0s - loss: 1.6382 - accuracy: 0.3663\n",
            "Epoch 00003: val_accuracy did not improve from 0.33958\n",
            "47/47 [==============================] - 1s 14ms/step - loss: 1.6363 - accuracy: 0.3676 - val_loss: 1.7525 - val_accuracy: 0.3108\n",
            "Epoch 4/40\n",
            "45/47 [===========================>..] - ETA: 0s - loss: 1.5202 - accuracy: 0.4306\n",
            "Epoch 00004: val_accuracy improved from 0.33958 to 0.46149, saving model to emotion_recog.csv\n",
            "INFO:tensorflow:Assets written to: emotion_recog.csv/assets\n",
            "47/47 [==============================] - 3s 70ms/step - loss: 1.5177 - accuracy: 0.4327 - val_loss: 1.4904 - val_accuracy: 0.4615\n",
            "Epoch 5/40\n",
            "45/47 [===========================>..] - ETA: 0s - loss: 1.4414 - accuracy: 0.4684\n",
            "Epoch 00005: val_accuracy did not improve from 0.46149\n",
            "47/47 [==============================] - 1s 14ms/step - loss: 1.4463 - accuracy: 0.4689 - val_loss: 1.7736 - val_accuracy: 0.3865\n",
            "Epoch 6/40\n",
            "46/47 [============================>.] - ETA: 0s - loss: 1.3936 - accuracy: 0.4837\n",
            "Epoch 00006: val_accuracy improved from 0.46149 to 0.48024, saving model to emotion_recog.csv\n",
            "INFO:tensorflow:Assets written to: emotion_recog.csv/assets\n",
            "47/47 [==============================] - 3s 65ms/step - loss: 1.3934 - accuracy: 0.4832 - val_loss: 1.3930 - val_accuracy: 0.4802\n",
            "Epoch 7/40\n",
            "47/47 [==============================] - ETA: 0s - loss: 1.3313 - accuracy: 0.5073\n",
            "Epoch 00007: val_accuracy did not improve from 0.48024\n",
            "47/47 [==============================] - 1s 14ms/step - loss: 1.3313 - accuracy: 0.5073 - val_loss: 1.4241 - val_accuracy: 0.4534\n",
            "Epoch 8/40\n",
            "45/47 [===========================>..] - ETA: 0s - loss: 1.2911 - accuracy: 0.5210\n",
            "Epoch 00008: val_accuracy did not improve from 0.48024\n",
            "47/47 [==============================] - 1s 13ms/step - loss: 1.2932 - accuracy: 0.5199 - val_loss: 1.4419 - val_accuracy: 0.4762\n",
            "Epoch 9/40\n",
            "45/47 [===========================>..] - ETA: 0s - loss: 1.2649 - accuracy: 0.5247\n",
            "Epoch 00009: val_accuracy improved from 0.48024 to 0.53382, saving model to emotion_recog.csv\n",
            "INFO:tensorflow:Assets written to: emotion_recog.csv/assets\n",
            "47/47 [==============================] - 3s 62ms/step - loss: 1.2638 - accuracy: 0.5244 - val_loss: 1.2704 - val_accuracy: 0.5338\n",
            "Epoch 10/40\n",
            "43/47 [==========================>...] - ETA: 0s - loss: 1.2413 - accuracy: 0.5396\n",
            "Epoch 00010: val_accuracy did not improve from 0.53382\n",
            "47/47 [==============================] - 1s 14ms/step - loss: 1.2374 - accuracy: 0.5411 - val_loss: 1.4935 - val_accuracy: 0.4555\n",
            "Epoch 11/40\n",
            "46/47 [============================>.] - ETA: 0s - loss: 1.1923 - accuracy: 0.5574\n",
            "Epoch 00011: val_accuracy improved from 0.53382 to 0.55258, saving model to emotion_recog.csv\n",
            "INFO:tensorflow:Assets written to: emotion_recog.csv/assets\n",
            "47/47 [==============================] - 3s 65ms/step - loss: 1.1928 - accuracy: 0.5574 - val_loss: 1.1937 - val_accuracy: 0.5526\n",
            "Epoch 12/40\n",
            "45/47 [===========================>..] - ETA: 0s - loss: 1.1738 - accuracy: 0.5609\n",
            "Epoch 00012: val_accuracy did not improve from 0.55258\n",
            "47/47 [==============================] - 1s 14ms/step - loss: 1.1735 - accuracy: 0.5611 - val_loss: 1.2082 - val_accuracy: 0.5526\n",
            "Epoch 13/40\n",
            "46/47 [============================>.] - ETA: 0s - loss: 1.1488 - accuracy: 0.5740\n",
            "Epoch 00013: val_accuracy did not improve from 0.55258\n",
            "47/47 [==============================] - 1s 13ms/step - loss: 1.1492 - accuracy: 0.5748 - val_loss: 1.3620 - val_accuracy: 0.5224\n",
            "Epoch 14/40\n",
            "45/47 [===========================>..] - ETA: 0s - loss: 1.1148 - accuracy: 0.5918\n",
            "Epoch 00014: val_accuracy did not improve from 0.55258\n",
            "47/47 [==============================] - 1s 13ms/step - loss: 1.1159 - accuracy: 0.5911 - val_loss: 1.3668 - val_accuracy: 0.5305\n",
            "Epoch 15/40\n",
            "45/47 [===========================>..] - ETA: 0s - loss: 1.0954 - accuracy: 0.5891\n",
            "Epoch 00015: val_accuracy improved from 0.55258 to 0.57267, saving model to emotion_recog.csv\n",
            "INFO:tensorflow:Assets written to: emotion_recog.csv/assets\n",
            "47/47 [==============================] - 3s 66ms/step - loss: 1.0994 - accuracy: 0.5892 - val_loss: 1.1788 - val_accuracy: 0.5727\n",
            "Epoch 16/40\n",
            "46/47 [============================>.] - ETA: 0s - loss: 1.0773 - accuracy: 0.5999\n",
            "Epoch 00016: val_accuracy did not improve from 0.57267\n",
            "47/47 [==============================] - 1s 14ms/step - loss: 1.0778 - accuracy: 0.5998 - val_loss: 1.7243 - val_accuracy: 0.3704\n",
            "Epoch 17/40\n",
            "45/47 [===========================>..] - ETA: 0s - loss: 1.0583 - accuracy: 0.6016\n",
            "Epoch 00017: val_accuracy did not improve from 0.57267\n",
            "47/47 [==============================] - 1s 13ms/step - loss: 1.0574 - accuracy: 0.6038 - val_loss: 1.2125 - val_accuracy: 0.5640\n",
            "Epoch 18/40\n",
            "46/47 [============================>.] - ETA: 0s - loss: 1.0322 - accuracy: 0.6180\n",
            "Epoch 00018: val_accuracy did not improve from 0.57267\n",
            "47/47 [==============================] - 1s 13ms/step - loss: 1.0313 - accuracy: 0.6177 - val_loss: 1.2238 - val_accuracy: 0.5660\n",
            "Epoch 19/40\n",
            "46/47 [============================>.] - ETA: 0s - loss: 1.0144 - accuracy: 0.6185\n",
            "Epoch 00019: val_accuracy improved from 0.57267 to 0.59143, saving model to emotion_recog.csv\n",
            "INFO:tensorflow:Assets written to: emotion_recog.csv/assets\n",
            "47/47 [==============================] - 3s 62ms/step - loss: 1.0152 - accuracy: 0.6179 - val_loss: 1.1450 - val_accuracy: 0.5914\n",
            "Epoch 20/40\n",
            "46/47 [============================>.] - ETA: 0s - loss: 0.9931 - accuracy: 0.6350\n",
            "Epoch 00020: val_accuracy did not improve from 0.59143\n",
            "47/47 [==============================] - 1s 14ms/step - loss: 0.9969 - accuracy: 0.6333 - val_loss: 1.1357 - val_accuracy: 0.5867\n",
            "Epoch 21/40\n",
            "45/47 [===========================>..] - ETA: 0s - loss: 0.9731 - accuracy: 0.6399\n",
            "Epoch 00021: val_accuracy did not improve from 0.59143\n",
            "47/47 [==============================] - 1s 13ms/step - loss: 0.9738 - accuracy: 0.6401 - val_loss: 1.3402 - val_accuracy: 0.5244\n",
            "Epoch 22/40\n",
            "46/47 [============================>.] - ETA: 0s - loss: 0.9543 - accuracy: 0.6449\n",
            "Epoch 00022: val_accuracy did not improve from 0.59143\n",
            "47/47 [==============================] - 1s 13ms/step - loss: 0.9535 - accuracy: 0.6453 - val_loss: 1.1913 - val_accuracy: 0.5774\n",
            "Epoch 23/40\n",
            "44/47 [===========================>..] - ETA: 0s - loss: 0.9619 - accuracy: 0.6454\n",
            "Epoch 00023: val_accuracy did not improve from 0.59143\n",
            "47/47 [==============================] - 1s 13ms/step - loss: 0.9646 - accuracy: 0.6452 - val_loss: 1.3194 - val_accuracy: 0.5492\n",
            "Epoch 24/40\n",
            "46/47 [============================>.] - ETA: 0s - loss: 0.9154 - accuracy: 0.6624\n",
            "Epoch 00024: val_accuracy did not improve from 0.59143\n",
            "47/47 [==============================] - 1s 13ms/step - loss: 0.9166 - accuracy: 0.6619 - val_loss: 1.2187 - val_accuracy: 0.5814\n",
            "Epoch 25/40\n",
            "46/47 [============================>.] - ETA: 0s - loss: 0.9221 - accuracy: 0.6569\n",
            "Epoch 00025: val_accuracy improved from 0.59143 to 0.59946, saving model to emotion_recog.csv\n",
            "INFO:tensorflow:Assets written to: emotion_recog.csv/assets\n",
            "47/47 [==============================] - 3s 66ms/step - loss: 0.9229 - accuracy: 0.6566 - val_loss: 1.1424 - val_accuracy: 0.5995\n",
            "Epoch 26/40\n",
            "45/47 [===========================>..] - ETA: 0s - loss: 0.8755 - accuracy: 0.6715\n",
            "Epoch 00026: val_accuracy improved from 0.59946 to 0.60683, saving model to emotion_recog.csv\n",
            "INFO:tensorflow:Assets written to: emotion_recog.csv/assets\n",
            "47/47 [==============================] - 3s 67ms/step - loss: 0.8781 - accuracy: 0.6715 - val_loss: 1.1328 - val_accuracy: 0.6068\n",
            "Epoch 27/40\n",
            "46/47 [============================>.] - ETA: 0s - loss: 0.8715 - accuracy: 0.6760\n",
            "Epoch 00027: val_accuracy did not improve from 0.60683\n",
            "47/47 [==============================] - 1s 15ms/step - loss: 0.8725 - accuracy: 0.6753 - val_loss: 1.1485 - val_accuracy: 0.5874\n",
            "Epoch 28/40\n",
            "46/47 [============================>.] - ETA: 0s - loss: 0.8351 - accuracy: 0.6865\n",
            "Epoch 00028: val_accuracy improved from 0.60683 to 0.61018, saving model to emotion_recog.csv\n",
            "INFO:tensorflow:Assets written to: emotion_recog.csv/assets\n",
            "47/47 [==============================] - 3s 66ms/step - loss: 0.8361 - accuracy: 0.6860 - val_loss: 1.1235 - val_accuracy: 0.6102\n",
            "Epoch 29/40\n",
            "45/47 [===========================>..] - ETA: 0s - loss: 0.8256 - accuracy: 0.6894\n",
            "Epoch 00029: val_accuracy did not improve from 0.61018\n",
            "47/47 [==============================] - 1s 15ms/step - loss: 0.8264 - accuracy: 0.6894 - val_loss: 1.3156 - val_accuracy: 0.5499\n",
            "Epoch 30/40\n",
            "45/47 [===========================>..] - ETA: 0s - loss: 0.8171 - accuracy: 0.6970\n",
            "Epoch 00030: val_accuracy did not improve from 0.61018\n",
            "47/47 [==============================] - 1s 13ms/step - loss: 0.8181 - accuracy: 0.6949 - val_loss: 1.3620 - val_accuracy: 0.5278\n",
            "Epoch 31/40\n",
            "45/47 [===========================>..] - ETA: 0s - loss: 0.7853 - accuracy: 0.7002\n",
            "Epoch 00031: val_accuracy did not improve from 0.61018\n",
            "47/47 [==============================] - 1s 13ms/step - loss: 0.7903 - accuracy: 0.6991 - val_loss: 1.1560 - val_accuracy: 0.6021\n",
            "Epoch 32/40\n",
            "45/47 [===========================>..] - ETA: 0s - loss: 0.7645 - accuracy: 0.7203\n",
            "Epoch 00032: val_accuracy did not improve from 0.61018\n",
            "47/47 [==============================] - 1s 13ms/step - loss: 0.7675 - accuracy: 0.7184 - val_loss: 1.2385 - val_accuracy: 0.5834\n",
            "Epoch 33/40\n",
            "45/47 [===========================>..] - ETA: 0s - loss: 0.7598 - accuracy: 0.7220\n",
            "Epoch 00033: val_accuracy did not improve from 0.61018\n",
            "47/47 [==============================] - 1s 13ms/step - loss: 0.7614 - accuracy: 0.7214 - val_loss: 1.1498 - val_accuracy: 0.6042\n",
            "Epoch 34/40\n",
            "46/47 [============================>.] - ETA: 0s - loss: 0.7575 - accuracy: 0.7203\n",
            "Epoch 00034: val_accuracy did not improve from 0.61018\n",
            "47/47 [==============================] - 1s 13ms/step - loss: 0.7591 - accuracy: 0.7197 - val_loss: 1.1522 - val_accuracy: 0.6035\n",
            "Epoch 35/40\n",
            "45/47 [===========================>..] - ETA: 0s - loss: 0.7459 - accuracy: 0.7198\n",
            "Epoch 00035: val_accuracy did not improve from 0.61018\n",
            "47/47 [==============================] - 1s 13ms/step - loss: 0.7414 - accuracy: 0.7216 - val_loss: 1.2046 - val_accuracy: 0.5981\n",
            "Epoch 36/40\n",
            "46/47 [============================>.] - ETA: 0s - loss: 0.7402 - accuracy: 0.7244\n",
            "Epoch 00036: val_accuracy did not improve from 0.61018\n",
            "47/47 [==============================] - 1s 13ms/step - loss: 0.7396 - accuracy: 0.7251 - val_loss: 1.1780 - val_accuracy: 0.5954\n",
            "Epoch 37/40\n",
            "46/47 [============================>.] - ETA: 0s - loss: 0.7230 - accuracy: 0.7291\n",
            "Epoch 00037: val_accuracy did not improve from 0.61018\n",
            "47/47 [==============================] - 1s 13ms/step - loss: 0.7231 - accuracy: 0.7288 - val_loss: 1.2520 - val_accuracy: 0.6082\n",
            "Epoch 38/40\n",
            "45/47 [===========================>..] - ETA: 0s - loss: 0.6989 - accuracy: 0.7399\n",
            "Epoch 00038: val_accuracy did not improve from 0.61018\n",
            "47/47 [==============================] - 1s 13ms/step - loss: 0.6990 - accuracy: 0.7397 - val_loss: 1.1986 - val_accuracy: 0.6048\n",
            "Epoch 39/40\n",
            "44/47 [===========================>..] - ETA: 0s - loss: 0.6535 - accuracy: 0.7557\n",
            "Epoch 00039: val_accuracy did not improve from 0.61018\n",
            "47/47 [==============================] - 1s 13ms/step - loss: 0.6580 - accuracy: 0.7536 - val_loss: 1.3173 - val_accuracy: 0.5921\n",
            "Epoch 40/40\n",
            "45/47 [===========================>..] - ETA: 0s - loss: 0.6458 - accuracy: 0.7601\n",
            "Epoch 00040: val_accuracy did not improve from 0.61018\n",
            "47/47 [==============================] - 1s 13ms/step - loss: 0.6481 - accuracy: 0.7584 - val_loss: 1.3123 - val_accuracy: 0.6021\n"
          ],
          "name": "stdout"
        }
      ]
    },
    {
      "cell_type": "code",
      "metadata": {
        "id": "QovMcch4mlkn",
        "outputId": "d5ecedfb-eb62-4929-c7b7-af39f07baf7a",
        "colab": {
          "base_uri": "https://localhost:8080/"
        }
      },
      "source": [
        "# evaluate on the test dataset\n",
        "loss, accuracy = model.evaluate(X_test, y_test, verbose=0)\n",
        "print('Test loss:', loss)\n",
        "print('Test accuracy:', accuracy)"
      ],
      "execution_count": null,
      "outputs": [
        {
          "output_type": "stream",
          "text": [
            "Test loss: 1.2674615383148193\n",
            "Test accuracy: 0.6205787658691406\n"
          ],
          "name": "stdout"
        }
      ]
    },
    {
      "cell_type": "code",
      "metadata": {
        "id": "xdDIKxNqni1H"
      },
      "source": [
        "# preprocessing the public test set to make predictions on\n",
        "public_test_given = np.array([proc_img(i) for i in images_test_public])\n",
        "public_test_given = np.expand_dims(public_test_given, axis=3)"
      ],
      "execution_count": null,
      "outputs": []
    },
    {
      "cell_type": "code",
      "metadata": {
        "id": "KYTTTsfzni4O",
        "outputId": "f87c003a-21cb-4fcb-d6c3-6682b8907420",
        "colab": {
          "base_uri": "https://localhost:8080/"
        }
      },
      "source": [
        "# predicitng classes of the public data set\n",
        "predict_dl = model.predict_classes(public_test_given)"
      ],
      "execution_count": null,
      "outputs": [
        {
          "output_type": "stream",
          "text": [
            "WARNING:tensorflow:From <ipython-input-47-c095a9900371>:1: Sequential.predict_classes (from tensorflow.python.keras.engine.sequential) is deprecated and will be removed after 2021-01-01.\n",
            "Instructions for updating:\n",
            "Please use instead:* `np.argmax(model.predict(x), axis=-1)`,   if your model does multi-class classification   (e.g. if it uses a `softmax` last-layer activation).* `(model.predict(x) > 0.5).astype(\"int32\")`,   if your model does binary classification   (e.g. if it uses a `sigmoid` last-layer activation).\n"
          ],
          "name": "stdout"
        }
      ]
    },
    {
      "cell_type": "code",
      "metadata": {
        "id": "4Q6wFOkpni6-",
        "outputId": "c032c869-3c27-4167-b46f-91b805489efe",
        "colab": {
          "base_uri": "https://localhost:8080/"
        }
      },
      "source": [
        "predict_dl"
      ],
      "execution_count": null,
      "outputs": [
        {
          "output_type": "execute_result",
          "data": {
            "text/plain": [
              "array([3, 3, 6, ..., 3, 3, 6])"
            ]
          },
          "metadata": {
            "tags": []
          },
          "execution_count": 48
        }
      ]
    },
    {
      "cell_type": "code",
      "metadata": {
        "id": "i4bN0N0EnpI0"
      },
      "source": [
        "# saving the predictions as format required to be submitted on kaggle\n",
        "predictionsk_df = pd.DataFrame(columns=['Predictions'])\n",
        "\n",
        "predictionsk_df['Predictions'] = predict_dl\n",
        "\n",
        "predictionsk_df['ID'] = predictionsk_df.index\n",
        "\n",
        "predictionsk_df.head()\n",
        "\n",
        "outputsk_df = predictionsk_df[['ID', 'Predictions']]\n",
        "\n",
        "outputsk_df.head()\n",
        "\n",
        "outputsk_df.to_csv('/content/drive/My Drive/Colab Notebooks/ML/facial-expression-recognition/46153454_deep_public.csv', index= False)"
      ],
      "execution_count": null,
      "outputs": []
    },
    {
      "cell_type": "code",
      "metadata": {
        "id": "SmmiHb7PnpLa"
      },
      "source": [
        "# preprocessing private dataset on private dataset released on 4th November\n",
        "private_dataset = np.load(join(dataset_directory, 'PrivateTest_data_images.npy'))\n",
        "private_dataset = np.array([proc_img(i) for i in private_dataset])\n",
        "private_dataset = np.expand_dims(private_dataset, axis=3)"
      ],
      "execution_count": null,
      "outputs": []
    },
    {
      "cell_type": "code",
      "metadata": {
        "id": "RBv3O3FcnpNh"
      },
      "source": [
        "# predicting on the private dataset\n",
        "private_dataset_dl = model.predict_classes(private_dataset)"
      ],
      "execution_count": null,
      "outputs": []
    },
    {
      "cell_type": "code",
      "metadata": {
        "id": "n1KjQm5vnpQD",
        "outputId": "ae8a8772-4ac0-4e1a-bcb6-f6af27f9a91b",
        "colab": {
          "base_uri": "https://localhost:8080/"
        }
      },
      "source": [
        "private_dataset_dl"
      ],
      "execution_count": null,
      "outputs": [
        {
          "output_type": "execute_result",
          "data": {
            "text/plain": [
              "array([6, 3, 3, ..., 6, 3, 2])"
            ]
          },
          "metadata": {
            "tags": []
          },
          "execution_count": 52
        }
      ]
    },
    {
      "cell_type": "code",
      "metadata": {
        "id": "RaCTqjYUnpTT"
      },
      "source": [
        "# saving the predications on the private dataset to be uploaded \n",
        "predictionsk_df = pd.DataFrame(columns=['Predictions'])\n",
        "\n",
        "predictionsk_df['Predictions'] = private_dataset_dl\n",
        "\n",
        "predictionsk_df['ID'] = predictionsk_df.index\n",
        "\n",
        "predictionsk_df.head()\n",
        "\n",
        "outputsk_df = predictionsk_df[['ID', 'Predictions']]\n",
        "\n",
        "outputsk_df.head()\n",
        "\n",
        "outputsk_df.to_csv('/content/drive/My Drive/Colab Notebooks/ML/facial-expression-recognition/4615343_deep_private.csv', index= False)"
      ],
      "execution_count": null,
      "outputs": []
    },
    {
      "cell_type": "markdown",
      "metadata": {
        "id": "zGXqXNSW4Fbf"
      },
      "source": [
        "## Notes on the Deep Learning Model\n",
        "\n",
        "In the final model, I have tried a CNN with four layers each having convolution layer followed by activation,  pooling, batch normalization and dropout layer. The activation function used was relu as it is considered to be a optimial activation function as compared to other available ones. This is then downsized by the maxpooling layer and this downsized output is normalized and scaled using batchnormalization. To prevent the model from overfitting dropout layers are used. Then the flatten layer converts the matrix output into array. ModelCheckpoint callback is used to save the max val_accuracy of the model while fit. This model gave a validation accuracy of **62%**. On the public test set this model gave **60%** accuracy and **62%** on private test set submitted on kaggle. The model was performing better on SGD than Adam as the optimizer. This might be due to the fact that Adam fails to converge to an optimal solution under some specific settings.\n",
        "\n",
        "In addition to this I implemented the DeXpression model presented in https://arxiv.org/pdf/1509.05371.pdf paper with some alterations and the accuracy was obtained of 44%. The input data has a size of 224 * 224 for this model so the data was resized and the model was applied on it."
      ]
    },
    {
      "cell_type": "code",
      "metadata": {
        "id": "ZJdHzZ0_8okB"
      },
      "source": [
        "# resizing the data to apply the model on\n",
        "def proc_img(inp):\n",
        "    inp2=resize(inp,(224,224))\n",
        "    img=Image.fromarray(inp2*255).convert(\"RGB\")\n",
        "    return np.asarray(img)"
      ],
      "execution_count": null,
      "outputs": []
    },
    {
      "cell_type": "code",
      "metadata": {
        "id": "d-um7RA28rjU"
      },
      "source": [
        "# splitting data into training, testing and validation data set\n",
        "X_train, X_test1, y_train, y_test1 = train_test_split(images_train, labels_train, random_state=42, test_size=0.3)\n",
        "X_test, X_val, y_test, y_val = train_test_split(X_test1, y_test1, test_size=0.3, random_state=42) "
      ],
      "execution_count": null,
      "outputs": []
    },
    {
      "cell_type": "code",
      "metadata": {
        "id": "NKNDx3bG8_Ci"
      },
      "source": [
        "X_train = np.array([proc_img(i) for i in X_train])"
      ],
      "execution_count": null,
      "outputs": []
    },
    {
      "cell_type": "code",
      "metadata": {
        "id": "tE4jQL0h9CC7"
      },
      "source": [
        "X_test = np.array([proc_img(i) for i in X_test])"
      ],
      "execution_count": null,
      "outputs": []
    },
    {
      "cell_type": "code",
      "metadata": {
        "id": "-0QarkF59CHP"
      },
      "source": [
        "X_val = np.array([proc_img(i) for i in X_val])"
      ],
      "execution_count": null,
      "outputs": []
    },
    {
      "cell_type": "code",
      "metadata": {
        "id": "HapSJt9P9CKk"
      },
      "source": [
        "y_train = to_categorical(y_train)\n",
        "y_test = to_categorical(y_test)\n",
        "y_val = to_categorical(y_val)"
      ],
      "execution_count": null,
      "outputs": []
    },
    {
      "cell_type": "code",
      "metadata": {
        "id": "lM-xTC7-9NsS",
        "outputId": "7f0dfe8a-cb4d-4820-d808-b81af700a76f",
        "colab": {
          "base_uri": "https://localhost:8080/"
        }
      },
      "source": [
        "print(X_train.shape, X_test.shape, X_val.shape,y_train.shape, y_test.shape, y_val.shape)"
      ],
      "execution_count": null,
      "outputs": [
        {
          "output_type": "stream",
          "text": [
            "(6529, 224, 224, 3) (1959, 224, 224, 3) (840, 224, 224, 3) (6529, 7) (1959, 7) (840, 7)\n"
          ],
          "name": "stdout"
        }
      ]
    },
    {
      "cell_type": "code",
      "metadata": {
        "id": "_8SZOlJJ9Nu-"
      },
      "source": [
        "from keras.utils import plot_model\n",
        "from keras.models import Model\n",
        "from keras.layers import Input\n",
        "from keras.layers import Dense\n",
        "from keras.layers import Flatten\n",
        "from keras.layers.convolutional import Conv2D\n",
        "from keras.layers.pooling import MaxPooling2D\n",
        "from keras.layers.merge import concatenate\n",
        "from keras import regularizers"
      ],
      "execution_count": null,
      "outputs": []
    },
    {
      "cell_type": "code",
      "metadata": {
        "id": "GUN67keS9Nxo",
        "outputId": "f4d31751-33c7-405d-a080-1fff3835114a",
        "colab": {
          "base_uri": "https://localhost:8080/"
        }
      },
      "source": [
        "# build the network\n",
        "model1 = Sequential()\n",
        "input = Input(shape=(224, 224, 3))\n",
        "dropout = Dropout(0.25)(input)\n",
        "convo1 = Conv2D(64, (1, 1), strides=2, activation=\"relu\")(dropout)\n",
        "maxpool1 = MaxPooling2D(pool_size=(2, 2))(convo1)\n",
        "batchnorm1 = BatchNormalization()(maxpool1)\n",
        "dropout1 = Dropout(0.25)(batchnorm1)\n",
        "convo2a = Conv2D(96, (1, 1),padding='valid',strides=(1, 1), activation=\"relu\")(dropout1)\n",
        "maxpool2a = MaxPooling2D(pool_size=(1, 1))(dropout1)\n",
        "convo2b = Conv2D(208, (1, 1),padding='valid',strides=(1, 1), activation=\"relu\")(convo2a)\n",
        "convo2c = Conv2D(64, (1, 1),padding='valid',strides=(1, 1), activation=\"relu\")(maxpool2a)\n",
        "result1 = concatenate([convo2b, convo2c])\n",
        "maxpool2b = MaxPooling2D(pool_size=(2, 2))(result1)\n",
        "\n",
        "convo3a = Conv2D(96, (1, 1),padding='valid',strides=(1, 1), activation=\"relu\")(maxpool2b)\n",
        "maxpool3a = MaxPooling2D(pool_size=(1, 1))(maxpool2b)\n",
        "convo3b = Conv2D(208, (1, 1),padding='valid',strides=(1, 1), activation=\"relu\")(convo3a)\n",
        "convo3c = Conv2D(64, (1, 1),padding='valid',strides=(1, 1), activation=\"relu\")(maxpool3a)\n",
        "result2 = concatenate([convo3b, convo3c])\n",
        "maxpool3b = MaxPooling2D(pool_size=(2, 2), strides=2)(result2)\n",
        "\n",
        "flat = Flatten()(maxpool3b)\n",
        "output= Dense(7, activation='softmax')(flat)\n",
        "model1 = Model(inputs = input, outputs = output)\n",
        "\n",
        "model1.summary()"
      ],
      "execution_count": null,
      "outputs": [
        {
          "output_type": "stream",
          "text": [
            "Model: \"functional_3\"\n",
            "__________________________________________________________________________________________________\n",
            "Layer (type)                    Output Shape         Param #     Connected to                     \n",
            "==================================================================================================\n",
            "input_2 (InputLayer)            [(None, 224, 224, 3) 0                                            \n",
            "__________________________________________________________________________________________________\n",
            "dropout_2 (Dropout)             (None, 224, 224, 3)  0           input_2[0][0]                    \n",
            "__________________________________________________________________________________________________\n",
            "conv2d_7 (Conv2D)               (None, 112, 112, 64) 256         dropout_2[0][0]                  \n",
            "__________________________________________________________________________________________________\n",
            "max_pooling2d_5 (MaxPooling2D)  (None, 56, 56, 64)   0           conv2d_7[0][0]                   \n",
            "__________________________________________________________________________________________________\n",
            "batch_normalization_1 (BatchNor (None, 56, 56, 64)   256         max_pooling2d_5[0][0]            \n",
            "__________________________________________________________________________________________________\n",
            "dropout_3 (Dropout)             (None, 56, 56, 64)   0           batch_normalization_1[0][0]      \n",
            "__________________________________________________________________________________________________\n",
            "conv2d_8 (Conv2D)               (None, 56, 56, 96)   6240        dropout_3[0][0]                  \n",
            "__________________________________________________________________________________________________\n",
            "max_pooling2d_6 (MaxPooling2D)  (None, 56, 56, 64)   0           dropout_3[0][0]                  \n",
            "__________________________________________________________________________________________________\n",
            "conv2d_9 (Conv2D)               (None, 56, 56, 208)  20176       conv2d_8[0][0]                   \n",
            "__________________________________________________________________________________________________\n",
            "conv2d_10 (Conv2D)              (None, 56, 56, 64)   4160        max_pooling2d_6[0][0]            \n",
            "__________________________________________________________________________________________________\n",
            "concatenate_2 (Concatenate)     (None, 56, 56, 272)  0           conv2d_9[0][0]                   \n",
            "                                                                 conv2d_10[0][0]                  \n",
            "__________________________________________________________________________________________________\n",
            "max_pooling2d_7 (MaxPooling2D)  (None, 28, 28, 272)  0           concatenate_2[0][0]              \n",
            "__________________________________________________________________________________________________\n",
            "conv2d_11 (Conv2D)              (None, 28, 28, 96)   26208       max_pooling2d_7[0][0]            \n",
            "__________________________________________________________________________________________________\n",
            "max_pooling2d_8 (MaxPooling2D)  (None, 28, 28, 272)  0           max_pooling2d_7[0][0]            \n",
            "__________________________________________________________________________________________________\n",
            "conv2d_12 (Conv2D)              (None, 28, 28, 208)  20176       conv2d_11[0][0]                  \n",
            "__________________________________________________________________________________________________\n",
            "conv2d_13 (Conv2D)              (None, 28, 28, 64)   17472       max_pooling2d_8[0][0]            \n",
            "__________________________________________________________________________________________________\n",
            "concatenate_3 (Concatenate)     (None, 28, 28, 272)  0           conv2d_12[0][0]                  \n",
            "                                                                 conv2d_13[0][0]                  \n",
            "__________________________________________________________________________________________________\n",
            "max_pooling2d_9 (MaxPooling2D)  (None, 14, 14, 272)  0           concatenate_3[0][0]              \n",
            "__________________________________________________________________________________________________\n",
            "flatten_1 (Flatten)             (None, 53312)        0           max_pooling2d_9[0][0]            \n",
            "__________________________________________________________________________________________________\n",
            "dense_1 (Dense)                 (None, 7)            373191      flatten_1[0][0]                  \n",
            "==================================================================================================\n",
            "Total params: 468,135\n",
            "Trainable params: 468,007\n",
            "Non-trainable params: 128\n",
            "__________________________________________________________________________________________________\n"
          ],
          "name": "stdout"
        }
      ]
    },
    {
      "cell_type": "code",
      "metadata": {
        "id": "M3FT5FjZ9Xx8",
        "outputId": "ba0f2ae1-8c81-4227-b2eb-d74931f3c388",
        "colab": {
          "base_uri": "https://localhost:8080/",
          "height": 883
        }
      },
      "source": [
        "# visualize the model\n",
        "from keras.utils import plot_model\n",
        "plot_model(model1, show_shapes=True, show_layer_names=True, to_file='model.png')\n",
        "from IPython.display import Image\n",
        "Image(retina=True, filename='model.png')"
      ],
      "execution_count": null,
      "outputs": [
        {
          "output_type": "execute_result",
          "data": {
            "image/png": "[encoded data removed]",
            "text/plain": [
              "<IPython.core.display.Image object>"
            ]
          },
          "metadata": {
            "tags": [],
            "image/png": {
              "width": 478,
              "height": 866
            }
          },
          "execution_count": 43
        }
      ]
    },
    {
      "cell_type": "code",
      "metadata": {
        "id": "VWN6mo1F9N0x",
        "outputId": "f0c14ec7-4ff1-4417-fb5a-86ff2df8e094",
        "colab": {
          "base_uri": "https://localhost:8080/"
        }
      },
      "source": [
        "from keras.callbacks import ModelCheckpoint\n",
        "checkpoint1 = ModelCheckpoint(filepath=\"face_recognition.csv\",\n",
        "                             monitor=\"val_acc\",\n",
        "                             mode=\"max\",\n",
        "                             save_best_only=True,\n",
        "                             verbose=1)\n",
        "callbacks1 = [checkpoint1]\n",
        "print(callbacks1)"
      ],
      "execution_count": null,
      "outputs": [
        {
          "output_type": "stream",
          "text": [
            "[<tensorflow.python.keras.callbacks.ModelCheckpoint object at 0x7f3e82086978>]\n"
          ],
          "name": "stdout"
        }
      ]
    },
    {
      "cell_type": "code",
      "metadata": {
        "id": "kUgLwEkj9i9s"
      },
      "source": [
        "opt1 = keras.optimizers.SGD(lr=0.00001,decay=1e-6, momentum=0.9, nesterov=True)\n",
        "model1.compile(optimizer= opt1, \n",
        "              loss='categorical_crossentropy',\n",
        "              metrics=['accuracy'])"
      ],
      "execution_count": null,
      "outputs": []
    },
    {
      "cell_type": "code",
      "metadata": {
        "id": "EfKv7axl9kxd",
        "outputId": "1ee01600-e9a0-4171-ddc2-ae5e3d205bbb",
        "colab": {
          "base_uri": "https://localhost:8080/"
        }
      },
      "source": [
        "history = model1.fit(X_train,y_train, batch_size=32, epochs=20, callbacks=callbacks1,validation_data=(X_val,y_val))"
      ],
      "execution_count": null,
      "outputs": [
        {
          "output_type": "stream",
          "text": [
            "Epoch 1/20\n",
            "203/205 [============================>.] - ETA: 0s - loss: 2.0204 - accuracy: 0.3325WARNING:tensorflow:Can save best model only with val_acc available, skipping.\n",
            "205/205 [==============================] - 9s 45ms/step - loss: 2.0197 - accuracy: 0.3325 - val_loss: 1.7226 - val_accuracy: 0.3357\n",
            "Epoch 2/20\n",
            "205/205 [==============================] - ETA: 0s - loss: 1.5950 - accuracy: 0.4115WARNING:tensorflow:Can save best model only with val_acc available, skipping.\n",
            "205/205 [==============================] - 9s 44ms/step - loss: 1.5950 - accuracy: 0.4115 - val_loss: 1.6581 - val_accuracy: 0.3750\n",
            "Epoch 3/20\n",
            "203/205 [============================>.] - ETA: 0s - loss: 1.5174 - accuracy: 0.4409WARNING:tensorflow:Can save best model only with val_acc available, skipping.\n",
            "205/205 [==============================] - 9s 44ms/step - loss: 1.5177 - accuracy: 0.4413 - val_loss: 1.7276 - val_accuracy: 0.3393\n",
            "Epoch 4/20\n",
            "203/205 [============================>.] - ETA: 0s - loss: 1.4580 - accuracy: 0.4657WARNING:tensorflow:Can save best model only with val_acc available, skipping.\n",
            "205/205 [==============================] - 9s 44ms/step - loss: 1.4589 - accuracy: 0.4648 - val_loss: 1.7242 - val_accuracy: 0.3452\n",
            "Epoch 5/20\n",
            "203/205 [============================>.] - ETA: 0s - loss: 1.4229 - accuracy: 0.4751WARNING:tensorflow:Can save best model only with val_acc available, skipping.\n",
            "205/205 [==============================] - 9s 44ms/step - loss: 1.4240 - accuracy: 0.4745 - val_loss: 1.6232 - val_accuracy: 0.3345\n",
            "Epoch 6/20\n",
            "203/205 [============================>.] - ETA: 0s - loss: 1.3907 - accuracy: 0.4909WARNING:tensorflow:Can save best model only with val_acc available, skipping.\n",
            "205/205 [==============================] - 9s 44ms/step - loss: 1.3896 - accuracy: 0.4912 - val_loss: 1.5262 - val_accuracy: 0.4357\n",
            "Epoch 7/20\n",
            "203/205 [============================>.] - ETA: 0s - loss: 1.3530 - accuracy: 0.5052WARNING:tensorflow:Can save best model only with val_acc available, skipping.\n",
            "205/205 [==============================] - 9s 43ms/step - loss: 1.3539 - accuracy: 0.5047 - val_loss: 1.6031 - val_accuracy: 0.3929\n",
            "Epoch 8/20\n",
            "204/205 [============================>.] - ETA: 0s - loss: 1.3447 - accuracy: 0.5069WARNING:tensorflow:Can save best model only with val_acc available, skipping.\n",
            "205/205 [==============================] - 9s 43ms/step - loss: 1.3446 - accuracy: 0.5070 - val_loss: 1.7566 - val_accuracy: 0.3310\n",
            "Epoch 9/20\n",
            "203/205 [============================>.] - ETA: 0s - loss: 1.3155 - accuracy: 0.5214WARNING:tensorflow:Can save best model only with val_acc available, skipping.\n",
            "205/205 [==============================] - 9s 43ms/step - loss: 1.3158 - accuracy: 0.5211 - val_loss: 1.6044 - val_accuracy: 0.3690\n",
            "Epoch 10/20\n",
            "203/205 [============================>.] - ETA: 0s - loss: 1.2795 - accuracy: 0.5314WARNING:tensorflow:Can save best model only with val_acc available, skipping.\n",
            "205/205 [==============================] - 9s 43ms/step - loss: 1.2800 - accuracy: 0.5307 - val_loss: 1.6816 - val_accuracy: 0.3238\n",
            "Epoch 11/20\n",
            "205/205 [==============================] - ETA: 0s - loss: 1.3115 - accuracy: 0.5146WARNING:tensorflow:Can save best model only with val_acc available, skipping.\n",
            "205/205 [==============================] - 9s 44ms/step - loss: 1.3115 - accuracy: 0.5146 - val_loss: 1.5951 - val_accuracy: 0.3869\n",
            "Epoch 12/20\n",
            "203/205 [============================>.] - ETA: 0s - loss: 1.2808 - accuracy: 0.5305WARNING:tensorflow:Can save best model only with val_acc available, skipping.\n",
            "205/205 [==============================] - 9s 43ms/step - loss: 1.2799 - accuracy: 0.5307 - val_loss: 1.5667 - val_accuracy: 0.3976\n",
            "Epoch 13/20\n",
            "203/205 [============================>.] - ETA: 0s - loss: 1.2335 - accuracy: 0.5460WARNING:tensorflow:Can save best model only with val_acc available, skipping.\n",
            "205/205 [==============================] - 9s 43ms/step - loss: 1.2333 - accuracy: 0.5462 - val_loss: 1.5736 - val_accuracy: 0.4060\n",
            "Epoch 14/20\n",
            "203/205 [============================>.] - ETA: 0s - loss: 1.2007 - accuracy: 0.5699WARNING:tensorflow:Can save best model only with val_acc available, skipping.\n",
            "205/205 [==============================] - 9s 43ms/step - loss: 1.1999 - accuracy: 0.5701 - val_loss: 1.5255 - val_accuracy: 0.4286\n",
            "Epoch 15/20\n",
            "203/205 [============================>.] - ETA: 0s - loss: 1.1789 - accuracy: 0.5640WARNING:tensorflow:Can save best model only with val_acc available, skipping.\n",
            "205/205 [==============================] - 9s 43ms/step - loss: 1.1789 - accuracy: 0.5638 - val_loss: 1.5372 - val_accuracy: 0.4333\n",
            "Epoch 16/20\n",
            "203/205 [============================>.] - ETA: 0s - loss: 1.1549 - accuracy: 0.5861WARNING:tensorflow:Can save best model only with val_acc available, skipping.\n",
            "205/205 [==============================] - 9s 43ms/step - loss: 1.1539 - accuracy: 0.5863 - val_loss: 1.4854 - val_accuracy: 0.4429\n",
            "Epoch 17/20\n",
            "203/205 [============================>.] - ETA: 0s - loss: 1.1385 - accuracy: 0.5834WARNING:tensorflow:Can save best model only with val_acc available, skipping.\n",
            "205/205 [==============================] - 9s 43ms/step - loss: 1.1387 - accuracy: 0.5836 - val_loss: 1.6276 - val_accuracy: 0.3762\n",
            "Epoch 18/20\n",
            "204/205 [============================>.] - ETA: 0s - loss: 1.1116 - accuracy: 0.5983WARNING:tensorflow:Can save best model only with val_acc available, skipping.\n",
            "205/205 [==============================] - 9s 44ms/step - loss: 1.1114 - accuracy: 0.5984 - val_loss: 1.6617 - val_accuracy: 0.3643\n",
            "Epoch 19/20\n",
            "203/205 [============================>.] - ETA: 0s - loss: 1.0975 - accuracy: 0.5973WARNING:tensorflow:Can save best model only with val_acc available, skipping.\n",
            "205/205 [==============================] - 9s 43ms/step - loss: 1.0966 - accuracy: 0.5978 - val_loss: 1.6288 - val_accuracy: 0.3571\n",
            "Epoch 20/20\n",
            "204/205 [============================>.] - ETA: 0s - loss: 1.0921 - accuracy: 0.6014WARNING:tensorflow:Can save best model only with val_acc available, skipping.\n",
            "205/205 [==============================] - 9s 43ms/step - loss: 1.0920 - accuracy: 0.6015 - val_loss: 1.5464 - val_accuracy: 0.4238\n"
          ],
          "name": "stdout"
        }
      ]
    },
    {
      "cell_type": "code",
      "metadata": {
        "id": "MUhCPlIO9ng4",
        "outputId": "fa46a7ed-e1cc-4b30-e1bf-2155a9d1e07f",
        "colab": {
          "base_uri": "https://localhost:8080/"
        }
      },
      "source": [
        "loss, accuracy = model1.evaluate(X_test, y_test, verbose=0)\n",
        "print('Test loss:', loss)\n",
        "print('Test accuracy:', accuracy)"
      ],
      "execution_count": null,
      "outputs": [
        {
          "output_type": "stream",
          "text": [
            "Test loss: 1.513043761253357\n",
            "Test accuracy: 0.4400204122066498\n"
          ],
          "name": "stdout"
        }
      ]
    },
    {
      "cell_type": "markdown",
      "metadata": {
        "id": "tPVGmfe84IHd"
      },
      "source": [
        "## Discussion of Model Performance and Implementation\n",
        "\n",
        "Comparing my final conventional ML and deep learning models, the deep learning one performed better by **9%** on the public test set.  The deep learning model **ranked 35 out of 65 submissions** on the public test set. The model had a prediction score of **62%** on the private data set as expected. Whereas the model achieved an accuracy of **60%** on public dataset which indicates that the there might be some overfitting in the data. As we can see from the model fit output the model performs well on training data but poor on the validation data which is an indication that the conventional CNN model is overfitting. Early stopping and regularlization can be used to prevent the model from overfitting. Data augmentation can also be applied to improve the training data quality. Applied few of these techniques and there was no significant improvement found in the model output. \n",
        "\n",
        "Adding more data to the model could help overcome this issue. Training the model on a wider dataset could mitigate the overfitting issue and also improve the performance of the model. Smaller training size could increase the tendancy of the model to overfit and the model could lack generalization capabality.\n",
        "\n"
      ]
    }
  ]
}